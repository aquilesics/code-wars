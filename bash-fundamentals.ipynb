{
    "cells": [
        {
            "cell_type": "markdown",
            "source": [
                "## Variables\n",
                "\n",
                "We should take care of where a space may appear.\n",
                "With space over = shell assumes variable is a command and = and variable value are parameters to that\n",
                "command."
            ],
            "metadata": {}
        },
        {
            "cell_type": "code",
            "execution_count": 18,
            "source": [
                "%%bash\n",
                "nome=vitor\n",
                "\n",
                "echo $nome\n",
                "# or\n",
                "echo ${nome}\n",
                "\n",
                "fullName=\"Remisa Yousefvand\"\n",
                "echo \"$fullName\"\n",
                "\n",
                "# If we want to assign a variable if and only if it has no value currently, then we can use default value\n",
                "# snippet:\n",
                "\n",
                ": \"${variable:=default}\"\n",
                "\n",
                "echo variable"
            ],
            "outputs": [
                {
                    "output_type": "stream",
                    "name": "stdout",
                    "text": [
                        "vitor\n",
                        "vitor\n",
                        "Remisa Yousefvand\n",
                        "variable\n"
                    ]
                }
            ],
            "metadata": {}
        },
        {
            "cell_type": "markdown",
            "source": [
                "## Variable Types\n",
                "\n",
                "There are three variable types in shell scripting: String , Integer and Array . Most of the time you\n",
                "only need String . Even when working with numbers they are strings you pass to commands which\n",
                "take care of converting those strings to numbers, do calculations, and return String back to you.\n",
                "Although you can define variables using declare keyword, in this book we define variables literally."
            ],
            "metadata": {}
        },
        {
            "cell_type": "code",
            "execution_count": 26,
            "source": [
                "%%bash\n",
                "\n",
                "# number or string\n",
                "var1=123\n",
                "var2=123.34\n",
                "var3=\"some text\"\n",
                "\n",
                "#array \n",
                "myArray=(\"one\",\"two\",\"three\")\n",
                "\n",
                "echo \"$var1\"\n",
                "echo \"$var2\"\n",
                "echo \"$var3\"\n",
                "echo \"${myArray[@]}\""
            ],
            "outputs": [
                {
                    "output_type": "stream",
                    "name": "stdout",
                    "text": [
                        "123\n",
                        "123.34\n",
                        "some text\n",
                        "one,two,three\n"
                    ]
                }
            ],
            "metadata": {}
        },
        {
            "cell_type": "markdown",
            "source": [
                "## Function"
            ],
            "metadata": {}
        },
        {
            "cell_type": "code",
            "execution_count": 28,
            "source": [
                "%%bash\n",
                "function myfunc () {\n",
                "echo \"$1\"\n",
                "}\n",
                "\n",
                "# function keyword is optional and can be omitted:\n",
                "\n",
                "myfunc () {\n",
                "echo \"$1\"\n",
                "}\n",
                "\n",
                "# To access function arguments we use $1 , $2 , $3 ... or access all of them at once through an array:\n",
                "\n",
                "function myfunc () {\n",
                "arguments=(\"$@\")\n",
                "# arguments is the array variable containing all function parameters\n",
                "}"
            ],
            "outputs": [],
            "metadata": {}
        },
        {
            "cell_type": "markdown",
            "source": [
                "## Commands"
            ],
            "metadata": {}
        },
        {
            "cell_type": "markdown",
            "source": [
                "## Debugging sayHello function\n",
                "\n",
                "The starship Enterprise has run into some problem when creating a program to greet everyone as they come aboard. It is your job to fix the code and get the program working again!\n",
                "\n",
                "Example output:\n",
                "\n",
                "**Hello, Mr. Spock** \n"
            ],
            "metadata": {}
        },
        {
            "cell_type": "code",
            "execution_count": 9,
            "source": [
                "%%bash\n",
                "say_hello(){\n",
                "  echo Hello, $1 $2\n",
                "}\n",
                "say_hello $1 $2"
            ],
            "outputs": [
                {
                    "output_type": "stream",
                    "name": "stdout",
                    "text": [
                        "Hello, Mr. Spck\n"
                    ]
                }
            ],
            "metadata": {}
        },
        {
            "cell_type": "markdown",
            "source": [
                "## Valid Phone Number\n",
                "\n",
                "\n",
                "Write a function that accepts a string, and returns true if it is in the form of a phone number.\n",
                "Assume that any integer from 0-9 in any of the spots will produce a valid phone number.\n",
                "\n",
                "Only worry about the following format:\n",
                "(123) 456-7890 (don't forget the space after the close parentheses)\n",
                "\n",
                "Examples:\n",
                "\n",
                "\"(123) 456-7890\"  => true\n",
                "\"(1111)555 2345\"  => false\n",
                "\"(098) 123 4567\"  => false"
            ],
            "metadata": {}
        },
        {
            "cell_type": "code",
            "execution_count": null,
            "source": [
                "%%bash\n",
                "regex='^\\([0-9]{3}\\) [0-9]{3}-[0-9]{4}$'\n",
                "[[ $1 =~ $regex ]] && echo True || echo False\n",
                "\n"
            ],
            "outputs": [],
            "metadata": {}
        }
    ],
    "metadata": {
        "orig_nbformat": 4,
        "language_info": {
            "name": "python",
            "version": "3.9.0",
            "mimetype": "text/x-python",
            "codemirror_mode": {
                "name": "ipython",
                "version": 3
            },
            "pygments_lexer": "ipython3",
            "nbconvert_exporter": "python",
            "file_extension": ".py"
        },
        "kernelspec": {
            "name": "python3",
            "display_name": "Python 3.9.0 64-bit ('env': venv)"
        },
        "interpreter": {
            "hash": "ad429c0598129a90d88a8c3f74b552fd6898fa721955d9045ed69d13a5831017"
        }
    },
    "nbformat": 4,
    "nbformat_minor": 2
}